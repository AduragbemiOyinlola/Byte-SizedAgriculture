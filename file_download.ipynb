{
 "cells": [
  {
   "cell_type": "code",
   "execution_count": 1,
   "id": "214f3bc7",
   "metadata": {},
   "outputs": [],
   "source": [
    "import os\n",
    "import ee\n",
    "import geemap\n",
    "\n",
    "from concurrent.futures import ThreadPoolExecutor"
   ]
  },
  {
   "cell_type": "code",
   "execution_count": null,
   "id": "dd97b9a8",
   "metadata": {},
   "outputs": [],
   "source": [
    "ee.Authenticate()\n",
    "ee.Initialize(project=\"ee-bytesizedagric\")\n",
    "print(ee.String('Hello from the Earth Engine servers!').getInfo())"
   ]
  },
  {
   "cell_type": "code",
   "execution_count": null,
   "id": "462a94ef",
   "metadata": {},
   "outputs": [],
   "source": [
    "# Get Côte d’Ivoire geometry\n",
    "aoi = ee.FeatureCollection(\"FAO/GAUL/2015/level0\") \\\n",
    "    .filter(ee.Filter.eq('ADM0_NAME', 'Côte d\\'Ivoire')) \\\n",
    "    .geometry()\n",
    "\n",
    "# Set time range\n",
    "start_date = '2024-01-01'\n",
    "end_date = '2024-12-31'\n",
    "\n",
    "# Folder to save images\n",
    "save_folder = 'sentinel-2'\n",
    "if not os.path.exists(save_folder):\n",
    "    os.makedirs(save_folder)\n",
    "\n",
    "# Select agriculture-relevant bands\n",
    "bands = ['B2', 'B3', 'B4', 'B5', 'B6', 'B7', 'B8', 'B8A', 'B11', 'B12']\n",
    "\n",
    "# Filter Sentinel-2 SR image collection\n",
    "collection = ee.ImageCollection('COPERNICUS/S2') \\\n",
    "    .filterDate(start_date, end_date) \\\n",
    "    .filterBounds(aoi) \\\n",
    "    .filter(ee.Filter.lt('CLOUDY_PIXEL_PERCENTAGE', 20))\n",
    "\n",
    "# Convert to list\n",
    "image_list = collection.toList(collection.size())\n",
    "\n",
    "# Get the number of images\n",
    "image_count = collection.size().getInfo()\n",
    "\n",
    "# Download function (silent)\n",
    "def download_image(i):\n",
    "    try:\n",
    "        image = ee.Image(image_list.get(i))\n",
    "        image_id = image.id().getInfo().replace('/', '_')\n",
    "        filename = os.path.join(save_folder, f\"{image_id}.tif\")\n",
    "\n",
    "        if not os.path.exists(filename):\n",
    "            geemap.download_ee_image(\n",
    "                image=image.select(bands),\n",
    "                filename=filename,\n",
    "                region=aoi,\n",
    "                scale=10000,\n",
    "                crs='EPSG:4326'\n",
    "            )\n",
    "    except:\n",
    "        pass  # Silently skip any errors\n",
    "\n",
    "# Run in parallel\n",
    "MAX_THREADS = 5  # Tune as needed\n",
    "MAX_DOWNLOADS = image_count\n",
    "\n",
    "with ThreadPoolExecutor(max_workers=MAX_THREADS) as executor:\n",
    "    executor.map(download_image, range(min(image_count, MAX_DOWNLOADS)))"
   ]
  }
 ],
 "metadata": {
  "kernelspec": {
   "display_name": "Python 3",
   "language": "python",
   "name": "python3"
  },
  "language_info": {
   "codemirror_mode": {
    "name": "ipython",
    "version": 3
   },
   "file_extension": ".py",
   "mimetype": "text/x-python",
   "name": "python",
   "nbconvert_exporter": "python",
   "pygments_lexer": "ipython3",
   "version": "3.12.2"
  }
 },
 "nbformat": 4,
 "nbformat_minor": 5
}
