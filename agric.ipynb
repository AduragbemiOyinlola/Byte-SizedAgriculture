{
 "cells": [
  {
   "cell_type": "markdown",
   "id": "d34a7348",
   "metadata": {},
   "source": [
    "### **LIBRARIES USED**"
   ]
  },
  {
   "cell_type": "code",
   "execution_count": 1,
   "id": "da1b9091",
   "metadata": {},
   "outputs": [],
   "source": [
    "import os\n",
    "from pathlib import Path\n",
    "import shutil\n",
    "import pandas as pd\n",
    "import rasterio\n",
    "import geopandas as gpd\n",
    "import gc"
   ]
  },
  {
   "cell_type": "markdown",
   "id": "cd05f569",
   "metadata": {},
   "source": [
    "### **LOADING DATASETS**"
   ]
  },
  {
   "cell_type": "code",
   "execution_count": 6,
   "id": "b25a8f40",
   "metadata": {},
   "outputs": [],
   "source": [
    "# dataset\n",
    "data_path = Path(\"./s2_images\")\n",
    "\n",
    "train = pd.read_csv(\"data/Train.csv\")\n",
    "test = pd.read_csv(\"data/Test.csv\")"
   ]
  },
  {
   "cell_type": "code",
   "execution_count": 7,
   "id": "1a960d3d",
   "metadata": {},
   "outputs": [
    {
     "data": {
      "text/html": [
       "<div>\n",
       "<style scoped>\n",
       "    .dataframe tbody tr th:only-of-type {\n",
       "        vertical-align: middle;\n",
       "    }\n",
       "\n",
       "    .dataframe tbody tr th {\n",
       "        vertical-align: top;\n",
       "    }\n",
       "\n",
       "    .dataframe thead th {\n",
       "        text-align: right;\n",
       "    }\n",
       "</style>\n",
       "<table border=\"1\" class=\"dataframe\">\n",
       "  <thead>\n",
       "    <tr style=\"text-align: right;\">\n",
       "      <th></th>\n",
       "      <th>ID</th>\n",
       "      <th>year</th>\n",
       "      <th>month</th>\n",
       "      <th>tifPath</th>\n",
       "      <th>Target</th>\n",
       "      <th>class</th>\n",
       "    </tr>\n",
       "  </thead>\n",
       "  <tbody>\n",
       "    <tr>\n",
       "      <th>0</th>\n",
       "      <td>ID_h14T0B_Jan</td>\n",
       "      <td>2024</td>\n",
       "      <td>Jan</td>\n",
       "      <td>/content/drive/MyDrive/train_s2_images/s2_Rubb...</td>\n",
       "      <td>Rubber</td>\n",
       "      <td>3</td>\n",
       "    </tr>\n",
       "    <tr>\n",
       "      <th>1</th>\n",
       "      <td>ID_KbyKOr_Jan</td>\n",
       "      <td>2024</td>\n",
       "      <td>Jan</td>\n",
       "      <td>/content/drive/MyDrive/train_s2_images/s2_Rubb...</td>\n",
       "      <td>Rubber</td>\n",
       "      <td>3</td>\n",
       "    </tr>\n",
       "    <tr>\n",
       "      <th>2</th>\n",
       "      <td>ID_t4Tmmn_Jan</td>\n",
       "      <td>2024</td>\n",
       "      <td>Jan</td>\n",
       "      <td>/content/drive/MyDrive/train_s2_images/s2_Rubb...</td>\n",
       "      <td>Rubber</td>\n",
       "      <td>3</td>\n",
       "    </tr>\n",
       "    <tr>\n",
       "      <th>3</th>\n",
       "      <td>ID_yipWoC_Jan</td>\n",
       "      <td>2024</td>\n",
       "      <td>Jan</td>\n",
       "      <td>/content/drive/MyDrive/train_s2_images/s2_Rubb...</td>\n",
       "      <td>Rubber</td>\n",
       "      <td>3</td>\n",
       "    </tr>\n",
       "    <tr>\n",
       "      <th>4</th>\n",
       "      <td>ID_XKiksa_Jan</td>\n",
       "      <td>2024</td>\n",
       "      <td>Jan</td>\n",
       "      <td>/content/drive/MyDrive/train_s2_images/s2_Rubb...</td>\n",
       "      <td>Rubber</td>\n",
       "      <td>3</td>\n",
       "    </tr>\n",
       "  </tbody>\n",
       "</table>\n",
       "</div>"
      ],
      "text/plain": [
       "              ID  year month  \\\n",
       "0  ID_h14T0B_Jan  2024   Jan   \n",
       "1  ID_KbyKOr_Jan  2024   Jan   \n",
       "2  ID_t4Tmmn_Jan  2024   Jan   \n",
       "3  ID_yipWoC_Jan  2024   Jan   \n",
       "4  ID_XKiksa_Jan  2024   Jan   \n",
       "\n",
       "                                             tifPath  Target  class  \n",
       "0  /content/drive/MyDrive/train_s2_images/s2_Rubb...  Rubber      3  \n",
       "1  /content/drive/MyDrive/train_s2_images/s2_Rubb...  Rubber      3  \n",
       "2  /content/drive/MyDrive/train_s2_images/s2_Rubb...  Rubber      3  \n",
       "3  /content/drive/MyDrive/train_s2_images/s2_Rubb...  Rubber      3  \n",
       "4  /content/drive/MyDrive/train_s2_images/s2_Rubb...  Rubber      3  "
      ]
     },
     "execution_count": 7,
     "metadata": {},
     "output_type": "execute_result"
    }
   ],
   "source": [
    "train.head()"
   ]
  },
  {
   "cell_type": "code",
   "execution_count": 8,
   "id": "86f1a9a3",
   "metadata": {},
   "outputs": [
    {
     "data": {
      "text/html": [
       "<div>\n",
       "<style scoped>\n",
       "    .dataframe tbody tr th:only-of-type {\n",
       "        vertical-align: middle;\n",
       "    }\n",
       "\n",
       "    .dataframe tbody tr th {\n",
       "        vertical-align: top;\n",
       "    }\n",
       "\n",
       "    .dataframe thead th {\n",
       "        text-align: right;\n",
       "    }\n",
       "</style>\n",
       "<table border=\"1\" class=\"dataframe\">\n",
       "  <thead>\n",
       "    <tr style=\"text-align: right;\">\n",
       "      <th></th>\n",
       "      <th>ID</th>\n",
       "      <th>year</th>\n",
       "      <th>month</th>\n",
       "      <th>tifPath</th>\n",
       "    </tr>\n",
       "  </thead>\n",
       "  <tbody>\n",
       "    <tr>\n",
       "      <th>0</th>\n",
       "      <td>ID_731818_Jan</td>\n",
       "      <td>2024</td>\n",
       "      <td>Jan</td>\n",
       "      <td>/content/drive/MyDrive/test_s2_images_/s2_Unkn...</td>\n",
       "    </tr>\n",
       "    <tr>\n",
       "      <th>1</th>\n",
       "      <td>ID_790093_Jan</td>\n",
       "      <td>2024</td>\n",
       "      <td>Jan</td>\n",
       "      <td>/content/drive/MyDrive/test_s2_images_/s2_Unkn...</td>\n",
       "    </tr>\n",
       "    <tr>\n",
       "      <th>2</th>\n",
       "      <td>ID_931033_Jan</td>\n",
       "      <td>2024</td>\n",
       "      <td>Jan</td>\n",
       "      <td>/content/drive/MyDrive/test_s2_images_/s2_Unkn...</td>\n",
       "    </tr>\n",
       "    <tr>\n",
       "      <th>3</th>\n",
       "      <td>ID_079024_Jan</td>\n",
       "      <td>2024</td>\n",
       "      <td>Jan</td>\n",
       "      <td>/content/drive/MyDrive/test_s2_images_/s2_Unkn...</td>\n",
       "    </tr>\n",
       "    <tr>\n",
       "      <th>4</th>\n",
       "      <td>ID_691532_Jan</td>\n",
       "      <td>2024</td>\n",
       "      <td>Jan</td>\n",
       "      <td>/content/drive/MyDrive/test_s2_images_/s2_Unkn...</td>\n",
       "    </tr>\n",
       "  </tbody>\n",
       "</table>\n",
       "</div>"
      ],
      "text/plain": [
       "              ID  year month  \\\n",
       "0  ID_731818_Jan  2024   Jan   \n",
       "1  ID_790093_Jan  2024   Jan   \n",
       "2  ID_931033_Jan  2024   Jan   \n",
       "3  ID_079024_Jan  2024   Jan   \n",
       "4  ID_691532_Jan  2024   Jan   \n",
       "\n",
       "                                             tifPath  \n",
       "0  /content/drive/MyDrive/test_s2_images_/s2_Unkn...  \n",
       "1  /content/drive/MyDrive/test_s2_images_/s2_Unkn...  \n",
       "2  /content/drive/MyDrive/test_s2_images_/s2_Unkn...  \n",
       "3  /content/drive/MyDrive/test_s2_images_/s2_Unkn...  \n",
       "4  /content/drive/MyDrive/test_s2_images_/s2_Unkn...  "
      ]
     },
     "execution_count": 8,
     "metadata": {},
     "output_type": "execute_result"
    }
   ],
   "source": [
    "test.head()"
   ]
  },
  {
   "cell_type": "code",
   "execution_count": 5,
   "id": "9eb2af0c",
   "metadata": {},
   "outputs": [
    {
     "data": {
      "text/plain": [
       "(3384, 4)"
      ]
     },
     "execution_count": 5,
     "metadata": {},
     "output_type": "execute_result"
    }
   ],
   "source": [
    "test.shape"
   ]
  },
  {
   "cell_type": "code",
   "execution_count": 7,
   "id": "d312eb5d",
   "metadata": {},
   "outputs": [],
   "source": [
    "def find_matching_tiffs(df, data_path):\n",
    "    \"\"\"\n",
    "    Find and collect TIFF file paths from a directory that match IDs in a GeoDataFrame.\n",
    "\n",
    "    Parameters:\n",
    "    - df (DataFrame): A DataFrame containing an 'ID' column.\n",
    "    - data_path (Path or str): Directory path containing TIFF files.\n",
    "\n",
    "    Returns:\n",
    "    - List[Path]: List of matching TIFF file paths.\n",
    "    \"\"\"\n",
    "    data_path = Path(data_path)\n",
    "    matching_tiffs = []\n",
    "\n",
    "    for idx, row in df.iterrows():\n",
    "        field_id = row['ID']\n",
    "        for tif_file in os.listdir(data_path):\n",
    "            if field_id in tif_file:\n",
    "                tif_path = data_path / tif_file\n",
    "                matching_tiffs.append(tif_path)\n",
    "\n",
    "    return matching_tiffs"
   ]
  },
  {
   "cell_type": "code",
   "execution_count": 8,
   "id": "c5263b4d",
   "metadata": {},
   "outputs": [],
   "source": [
    "# Get the paths of train/test images\n",
    "train_tiffs = find_matching_tiffs(train, data_path)\n",
    "test_tiffs = find_matching_tiffs(test, data_path)"
   ]
  },
  {
   "cell_type": "code",
   "execution_count": 85,
   "id": "bf7b3d55",
   "metadata": {},
   "outputs": [
    {
     "data": {
      "text/html": [
       "\n",
       "            <style>\n",
       "                .geemap-dark {\n",
       "                    --jp-widgets-color: white;\n",
       "                    --jp-widgets-label-color: white;\n",
       "                    --jp-ui-font-color1: white;\n",
       "                    --jp-layout-color2: #454545;\n",
       "                    background-color: #383838;\n",
       "                }\n",
       "\n",
       "                .geemap-dark .jupyter-button {\n",
       "                    --jp-layout-color3: #383838;\n",
       "                }\n",
       "\n",
       "                .geemap-colab {\n",
       "                    background-color: var(--colab-primary-surface-color, white);\n",
       "                }\n",
       "\n",
       "                .geemap-colab .jupyter-button {\n",
       "                    --jp-layout-color3: var(--colab-primary-surface-color, white);\n",
       "                }\n",
       "            </style>\n",
       "            "
      ],
      "text/plain": [
       "<IPython.core.display.HTML object>"
      ]
     },
     "metadata": {},
     "output_type": "display_data"
    },
    {
     "data": {
      "text/plain": [
       "[]"
      ]
     },
     "execution_count": 85,
     "metadata": {},
     "output_type": "execute_result"
    }
   ],
   "source": [
    "train_tiffs[:5]"
   ]
  },
  {
   "cell_type": "markdown",
   "id": "832f7ab7",
   "metadata": {},
   "source": [
    "### **DATAFRAME WITH THE TIF DATA**"
   ]
  },
  {
   "cell_type": "code",
   "execution_count": 11,
   "id": "9de05c96",
   "metadata": {},
   "outputs": [
    {
     "data": {
      "text/html": [
       "\n",
       "            <style>\n",
       "                .geemap-dark {\n",
       "                    --jp-widgets-color: white;\n",
       "                    --jp-widgets-label-color: white;\n",
       "                    --jp-ui-font-color1: white;\n",
       "                    --jp-layout-color2: #454545;\n",
       "                    background-color: #383838;\n",
       "                }\n",
       "\n",
       "                .geemap-dark .jupyter-button {\n",
       "                    --jp-layout-color3: #383838;\n",
       "                }\n",
       "\n",
       "                .geemap-colab {\n",
       "                    background-color: var(--colab-primary-surface-color, white);\n",
       "                }\n",
       "\n",
       "                .geemap-colab .jupyter-button {\n",
       "                    --jp-layout-color3: var(--colab-primary-surface-color, white);\n",
       "                }\n",
       "            </style>\n",
       "            "
      ],
      "text/plain": [
       "<IPython.core.display.HTML object>"
      ]
     },
     "metadata": {},
     "output_type": "display_data"
    }
   ],
   "source": [
    "def get_tiff_path(idx, month_idx, year, tif_paths):\n",
    "    month_str = f\"{month_idx:02d}\"  # ensures 01, 02, ..., 12\n",
    "    identifier = f\"{idx}_{year}_{month_str}\"\n",
    "\n",
    "    for tif_path in tif_paths:\n",
    "        if identifier in tif_path.name:\n",
    "            return tif_path\n",
    "\n",
    "    return None  # Only return None if no match found"
   ]
  },
  {
   "cell_type": "code",
   "execution_count": 12,
   "id": "a394bf75",
   "metadata": {},
   "outputs": [
    {
     "data": {
      "text/html": [
       "\n",
       "            <style>\n",
       "                .geemap-dark {\n",
       "                    --jp-widgets-color: white;\n",
       "                    --jp-widgets-label-color: white;\n",
       "                    --jp-ui-font-color1: white;\n",
       "                    --jp-layout-color2: #454545;\n",
       "                    background-color: #383838;\n",
       "                }\n",
       "\n",
       "                .geemap-dark .jupyter-button {\n",
       "                    --jp-layout-color3: #383838;\n",
       "                }\n",
       "\n",
       "                .geemap-colab {\n",
       "                    background-color: var(--colab-primary-surface-color, white);\n",
       "                }\n",
       "\n",
       "                .geemap-colab .jupyter-button {\n",
       "                    --jp-layout-color3: var(--colab-primary-surface-color, white);\n",
       "                }\n",
       "            </style>\n",
       "            "
      ],
      "text/plain": [
       "<IPython.core.display.HTML object>"
      ]
     },
     "metadata": {},
     "output_type": "display_data"
    }
   ],
   "source": [
    "YEAR = 2024\n",
    "MONTHS = ['Jan', 'Feb', 'Mar', 'Apr', 'May', 'Jun', 'Jul', 'Aug', 'Sep', 'Oct', 'Nov', 'Dec']\n",
    "\n",
    "def build_tiff_dataframe(gdf, tif_paths, year=2024, is_train=True, month_limit=12):\n",
    "    \"\"\"\n",
    "    Constructs a DataFrame mapping each ID and month to its corresponding TIFF path.\n",
    "\n",
    "    Parameters:\n",
    "    - gdf: GeoDataFrame with 'ID' (and optionally 'crop', 'class' if is_train)\n",
    "    - tif_paths: list or path collection of TIFF files\n",
    "    - year: year to use for matching filenames\n",
    "    - is_train: flag to indicate if it's for training (includes 'crop' and 'class')\n",
    "    - month_range: limit the data to generating the dataframe for a specific range of months\n",
    "\n",
    "    Returns:\n",
    "    - A pandas DataFrame with columns: ID, year, month, tifPath, (optional: crop, class)\n",
    "    \"\"\"\n",
    "\n",
    "    data = []\n",
    "    for month_idx in range(1, month_limit+1):\n",
    "        month = MONTHS[month_idx - 1]\n",
    "        for idx in gdf['ID'].values:\n",
    "            tif_path = get_tiff_path(idx, month_idx, year, tif_paths)\n",
    "            entry = {\n",
    "                \"ID\": f\"{idx}_{month}\",\n",
    "                \"year\": year,\n",
    "                \"month\": month,\n",
    "                \"tifPath\": str(tif_path) if tif_path else None,\n",
    "            }\n",
    "            if is_train:\n",
    "                entry[\"crop\"] = gdf.loc[gdf['ID'] == idx, 'crop'].values[0]\n",
    "                entry[\"class\"] = gdf.loc[gdf['ID'] == idx, 'class'].values[0]\n",
    "            data.append(entry)\n",
    "\n",
    "    return pd.DataFrame(data)\n",
    "\n",
    "\n",
    "def build_tiff_dataframe_single_month(gdf, tif_paths, year=2024, is_train=True, month_idx=1):\n",
    "    \"\"\"\n",
    "    Constructs a DataFrame mapping each ID and month to its corresponding TIFF path.\n",
    "\n",
    "    Parameters:\n",
    "    - gdf: GeoDataFrame with 'ID' (and optionally 'crop', 'class' if is_train)\n",
    "    - tif_paths: list or path collection of TIFF files\n",
    "    - year: year to use for matching filenames\n",
    "    - is_train: flag to indicate if it's for training (includes 'crop' and 'class')\n",
    "    - month_range: limit the data to generating the dataframe for a specific range of months\n",
    "\n",
    "    Returns:\n",
    "    - A pandas DataFrame with columns: ID, year, month, tifPath, (optional: crop, class)\n",
    "    \"\"\"\n",
    "\n",
    "    data = []\n",
    "    month = MONTHS[month_idx - 1]\n",
    "    for idx in gdf['ID'].values:\n",
    "      tif_path = get_tiff_path(idx, month_idx, year, tif_paths)\n",
    "      entry = {\n",
    "          \"ID\": f\"{idx}_{month}\",\n",
    "          \"year\": year,\n",
    "          \"month\": month,\n",
    "          \"tifPath\": str(tif_path) if tif_path else None,\n",
    "          }\n",
    "      if is_train:\n",
    "        entry[\"crop\"] = gdf.loc[gdf['ID'] == idx, 'crop'].values[0]\n",
    "        entry[\"class\"] = gdf.loc[gdf['ID'] == idx, 'class'].values[0]\n",
    "      data.append(entry)\n",
    "\n",
    "    return pd.DataFrame(data)"
   ]
  },
  {
   "cell_type": "code",
   "execution_count": 13,
   "id": "53966695",
   "metadata": {},
   "outputs": [
    {
     "data": {
      "text/html": [
       "\n",
       "            <style>\n",
       "                .geemap-dark {\n",
       "                    --jp-widgets-color: white;\n",
       "                    --jp-widgets-label-color: white;\n",
       "                    --jp-ui-font-color1: white;\n",
       "                    --jp-layout-color2: #454545;\n",
       "                    background-color: #383838;\n",
       "                }\n",
       "\n",
       "                .geemap-dark .jupyter-button {\n",
       "                    --jp-layout-color3: #383838;\n",
       "                }\n",
       "\n",
       "                .geemap-colab {\n",
       "                    background-color: var(--colab-primary-surface-color, white);\n",
       "                }\n",
       "\n",
       "                .geemap-colab .jupyter-button {\n",
       "                    --jp-layout-color3: var(--colab-primary-surface-color, white);\n",
       "                }\n",
       "            </style>\n",
       "            "
      ],
      "text/plain": [
       "<IPython.core.display.HTML object>"
      ]
     },
     "metadata": {},
     "output_type": "display_data"
    },
    {
     "ename": "AttributeError",
     "evalue": "'str' object has no attribute 'name'",
     "output_type": "error",
     "traceback": [
      "\u001b[1;31m---------------------------------------------------------------------------\u001b[0m",
      "\u001b[1;31mAttributeError\u001b[0m                            Traceback (most recent call last)",
      "Cell \u001b[1;32mIn[13], line 2\u001b[0m\n\u001b[0;32m      1\u001b[0m \u001b[38;5;66;03m## Build a toy train dataframe for a single month (January)\u001b[39;00m\n\u001b[1;32m----> 2\u001b[0m df_train \u001b[38;5;241m=\u001b[39m \u001b[43mbuild_tiff_dataframe_single_month\u001b[49m\u001b[43m(\u001b[49m\u001b[43mtrain\u001b[49m\u001b[43m,\u001b[49m\u001b[43m \u001b[49m\u001b[38;5;124;43m'\u001b[39;49m\u001b[38;5;124;43msentinel-2\u001b[39;49m\u001b[38;5;124;43m'\u001b[39;49m\u001b[43m,\u001b[49m\u001b[43m \u001b[49m\n\u001b[0;32m      3\u001b[0m \u001b[43m                                             \u001b[49m\u001b[43myear\u001b[49m\u001b[38;5;241;43m=\u001b[39;49m\u001b[43mYEAR\u001b[49m\u001b[43m,\u001b[49m\u001b[43m \u001b[49m\u001b[43mis_train\u001b[49m\u001b[38;5;241;43m=\u001b[39;49m\u001b[38;5;28;43;01mTrue\u001b[39;49;00m\u001b[43m,\u001b[49m\u001b[43m \u001b[49m\u001b[43mmonth_idx\u001b[49m\u001b[38;5;241;43m=\u001b[39;49m\u001b[38;5;241;43m1\u001b[39;49m\u001b[43m)\u001b[49m\n",
      "Cell \u001b[1;32mIn[12], line 56\u001b[0m, in \u001b[0;36mbuild_tiff_dataframe_single_month\u001b[1;34m(gdf, tif_paths, year, is_train, month_idx)\u001b[0m\n\u001b[0;32m     54\u001b[0m month \u001b[38;5;241m=\u001b[39m MONTHS[month_idx \u001b[38;5;241m-\u001b[39m \u001b[38;5;241m1\u001b[39m]\n\u001b[0;32m     55\u001b[0m \u001b[38;5;28;01mfor\u001b[39;00m idx \u001b[38;5;129;01min\u001b[39;00m gdf[\u001b[38;5;124m'\u001b[39m\u001b[38;5;124mID\u001b[39m\u001b[38;5;124m'\u001b[39m]\u001b[38;5;241m.\u001b[39mvalues:\n\u001b[1;32m---> 56\u001b[0m   tif_path \u001b[38;5;241m=\u001b[39m \u001b[43mget_tiff_path\u001b[49m\u001b[43m(\u001b[49m\u001b[43midx\u001b[49m\u001b[43m,\u001b[49m\u001b[43m \u001b[49m\u001b[43mmonth_idx\u001b[49m\u001b[43m,\u001b[49m\u001b[43m \u001b[49m\u001b[43myear\u001b[49m\u001b[43m,\u001b[49m\u001b[43m \u001b[49m\u001b[43mtif_paths\u001b[49m\u001b[43m)\u001b[49m\n\u001b[0;32m     57\u001b[0m   entry \u001b[38;5;241m=\u001b[39m {\n\u001b[0;32m     58\u001b[0m       \u001b[38;5;124m\"\u001b[39m\u001b[38;5;124mID\u001b[39m\u001b[38;5;124m\"\u001b[39m: \u001b[38;5;124mf\u001b[39m\u001b[38;5;124m\"\u001b[39m\u001b[38;5;132;01m{\u001b[39;00midx\u001b[38;5;132;01m}\u001b[39;00m\u001b[38;5;124m_\u001b[39m\u001b[38;5;132;01m{\u001b[39;00mmonth\u001b[38;5;132;01m}\u001b[39;00m\u001b[38;5;124m\"\u001b[39m,\n\u001b[0;32m     59\u001b[0m       \u001b[38;5;124m\"\u001b[39m\u001b[38;5;124myear\u001b[39m\u001b[38;5;124m\"\u001b[39m: year,\n\u001b[0;32m     60\u001b[0m       \u001b[38;5;124m\"\u001b[39m\u001b[38;5;124mmonth\u001b[39m\u001b[38;5;124m\"\u001b[39m: month,\n\u001b[0;32m     61\u001b[0m       \u001b[38;5;124m\"\u001b[39m\u001b[38;5;124mtifPath\u001b[39m\u001b[38;5;124m\"\u001b[39m: \u001b[38;5;28mstr\u001b[39m(tif_path) \u001b[38;5;28;01mif\u001b[39;00m tif_path \u001b[38;5;28;01melse\u001b[39;00m \u001b[38;5;28;01mNone\u001b[39;00m,\n\u001b[0;32m     62\u001b[0m       }\n\u001b[0;32m     63\u001b[0m   \u001b[38;5;28;01mif\u001b[39;00m is_train:\n",
      "Cell \u001b[1;32mIn[11], line 6\u001b[0m, in \u001b[0;36mget_tiff_path\u001b[1;34m(idx, month_idx, year, tif_paths)\u001b[0m\n\u001b[0;32m      3\u001b[0m identifier \u001b[38;5;241m=\u001b[39m \u001b[38;5;124mf\u001b[39m\u001b[38;5;124m\"\u001b[39m\u001b[38;5;132;01m{\u001b[39;00midx\u001b[38;5;132;01m}\u001b[39;00m\u001b[38;5;124m_\u001b[39m\u001b[38;5;132;01m{\u001b[39;00myear\u001b[38;5;132;01m}\u001b[39;00m\u001b[38;5;124m_\u001b[39m\u001b[38;5;132;01m{\u001b[39;00mmonth_str\u001b[38;5;132;01m}\u001b[39;00m\u001b[38;5;124m\"\u001b[39m\n\u001b[0;32m      5\u001b[0m \u001b[38;5;28;01mfor\u001b[39;00m tif_path \u001b[38;5;129;01min\u001b[39;00m tif_paths:\n\u001b[1;32m----> 6\u001b[0m     \u001b[38;5;28;01mif\u001b[39;00m identifier \u001b[38;5;129;01min\u001b[39;00m \u001b[43mtif_path\u001b[49m\u001b[38;5;241;43m.\u001b[39;49m\u001b[43mname\u001b[49m:\n\u001b[0;32m      7\u001b[0m         \u001b[38;5;28;01mreturn\u001b[39;00m tif_path\n\u001b[0;32m      9\u001b[0m \u001b[38;5;28;01mreturn\u001b[39;00m \u001b[38;5;28;01mNone\u001b[39;00m\n",
      "\u001b[1;31mAttributeError\u001b[0m: 'str' object has no attribute 'name'"
     ]
    }
   ],
   "source": [
    "## Build a toy train dataframe for a single month (January)\n",
    "df_train = build_tiff_dataframe_single_month(train, 'sentinel-2', \n",
    "                                             year=YEAR, is_train=True, month_idx=1)"
   ]
  },
  {
   "cell_type": "code",
   "execution_count": null,
   "id": "b89c89e2",
   "metadata": {},
   "outputs": [],
   "source": []
  }
 ],
 "metadata": {
  "kernelspec": {
   "display_name": "Python 3",
   "language": "python",
   "name": "python3"
  },
  "language_info": {
   "codemirror_mode": {
    "name": "ipython",
    "version": 3
   },
   "file_extension": ".py",
   "mimetype": "text/x-python",
   "name": "python",
   "nbconvert_exporter": "python",
   "pygments_lexer": "ipython3",
   "version": "3.12.2"
  }
 },
 "nbformat": 4,
 "nbformat_minor": 5
}
