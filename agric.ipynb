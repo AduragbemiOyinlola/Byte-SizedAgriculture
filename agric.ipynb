{
 "cells": [
  {
   "cell_type": "markdown",
   "id": "d34a7348",
   "metadata": {},
   "source": [
    "### **LIBRARIES USED**"
   ]
  },
  {
   "cell_type": "code",
   "execution_count": 1,
   "id": "da1b9091",
   "metadata": {},
   "outputs": [],
   "source": [
    "import pandas as pd\n",
    "import geopandas as gpd"
   ]
  },
  {
   "cell_type": "markdown",
   "id": "cd05f569",
   "metadata": {},
   "source": [
    "### **LOADING DATASETS**"
   ]
  },
  {
   "cell_type": "code",
   "execution_count": 2,
   "id": "b25a8f40",
   "metadata": {},
   "outputs": [],
   "source": [
    "# dataset\n",
    "\n",
    "train = gpd.read_file(\"data/train.geojson\")\n",
    "test = gpd.read_file(\"data/test.geojson\")"
   ]
  },
  {
   "cell_type": "code",
   "execution_count": 3,
   "id": "1a960d3d",
   "metadata": {},
   "outputs": [
    {
     "data": {
      "text/html": [
       "<div>\n",
       "<style scoped>\n",
       "    .dataframe tbody tr th:only-of-type {\n",
       "        vertical-align: middle;\n",
       "    }\n",
       "\n",
       "    .dataframe tbody tr th {\n",
       "        vertical-align: top;\n",
       "    }\n",
       "\n",
       "    .dataframe thead th {\n",
       "        text-align: right;\n",
       "    }\n",
       "</style>\n",
       "<table border=\"1\" class=\"dataframe\">\n",
       "  <thead>\n",
       "    <tr style=\"text-align: right;\">\n",
       "      <th></th>\n",
       "      <th>ID</th>\n",
       "      <th>year</th>\n",
       "      <th>crop</th>\n",
       "      <th>class</th>\n",
       "      <th>geometry</th>\n",
       "    </tr>\n",
       "  </thead>\n",
       "  <tbody>\n",
       "    <tr>\n",
       "      <th>0</th>\n",
       "      <td>ID_Mrbi2k</td>\n",
       "      <td>2024</td>\n",
       "      <td>Rubber</td>\n",
       "      <td>3</td>\n",
       "      <td>POLYGON ((-7.47662 4.79479, -7.47672 4.7947, -...</td>\n",
       "    </tr>\n",
       "    <tr>\n",
       "      <th>1</th>\n",
       "      <td>ID_ORmFYt</td>\n",
       "      <td>2024</td>\n",
       "      <td>Rubber</td>\n",
       "      <td>3</td>\n",
       "      <td>MULTIPOLYGON (((-7.11499 4.76768, -7.11471 4.7...</td>\n",
       "    </tr>\n",
       "    <tr>\n",
       "      <th>2</th>\n",
       "      <td>ID_2j2bjN</td>\n",
       "      <td>2024</td>\n",
       "      <td>Rubber</td>\n",
       "      <td>3</td>\n",
       "      <td>MULTIPOLYGON (((-7.09768 4.90044, -7.09732 4.9...</td>\n",
       "    </tr>\n",
       "    <tr>\n",
       "      <th>3</th>\n",
       "      <td>ID_GsdWS5</td>\n",
       "      <td>2024</td>\n",
       "      <td>Rubber</td>\n",
       "      <td>3</td>\n",
       "      <td>MULTIPOLYGON (((-7.11829 4.76918, -7.11714 4.7...</td>\n",
       "    </tr>\n",
       "    <tr>\n",
       "      <th>4</th>\n",
       "      <td>ID_zEYtR5</td>\n",
       "      <td>2024</td>\n",
       "      <td>Rubber</td>\n",
       "      <td>3</td>\n",
       "      <td>POLYGON ((-7.51713 4.66244, -7.51711 4.66249, ...</td>\n",
       "    </tr>\n",
       "  </tbody>\n",
       "</table>\n",
       "</div>"
      ],
      "text/plain": [
       "          ID  year    crop  class  \\\n",
       "0  ID_Mrbi2k  2024  Rubber      3   \n",
       "1  ID_ORmFYt  2024  Rubber      3   \n",
       "2  ID_2j2bjN  2024  Rubber      3   \n",
       "3  ID_GsdWS5  2024  Rubber      3   \n",
       "4  ID_zEYtR5  2024  Rubber      3   \n",
       "\n",
       "                                            geometry  \n",
       "0  POLYGON ((-7.47662 4.79479, -7.47672 4.7947, -...  \n",
       "1  MULTIPOLYGON (((-7.11499 4.76768, -7.11471 4.7...  \n",
       "2  MULTIPOLYGON (((-7.09768 4.90044, -7.09732 4.9...  \n",
       "3  MULTIPOLYGON (((-7.11829 4.76918, -7.11714 4.7...  \n",
       "4  POLYGON ((-7.51713 4.66244, -7.51711 4.66249, ...  "
      ]
     },
     "execution_count": 3,
     "metadata": {},
     "output_type": "execute_result"
    }
   ],
   "source": [
    "train.head()"
   ]
  },
  {
   "cell_type": "code",
   "execution_count": 4,
   "id": "86f1a9a3",
   "metadata": {},
   "outputs": [
    {
     "data": {
      "text/html": [
       "<div>\n",
       "<style scoped>\n",
       "    .dataframe tbody tr th:only-of-type {\n",
       "        vertical-align: middle;\n",
       "    }\n",
       "\n",
       "    .dataframe tbody tr th {\n",
       "        vertical-align: top;\n",
       "    }\n",
       "\n",
       "    .dataframe thead th {\n",
       "        text-align: right;\n",
       "    }\n",
       "</style>\n",
       "<table border=\"1\" class=\"dataframe\">\n",
       "  <thead>\n",
       "    <tr style=\"text-align: right;\">\n",
       "      <th></th>\n",
       "      <th>ID</th>\n",
       "      <th>year</th>\n",
       "      <th>geometry</th>\n",
       "    </tr>\n",
       "  </thead>\n",
       "  <tbody>\n",
       "    <tr>\n",
       "      <th>0</th>\n",
       "      <td>ID_UrUGR0</td>\n",
       "      <td>2024</td>\n",
       "      <td>POLYGON ((-7.56113 4.68498, -7.56119 4.68497, ...</td>\n",
       "    </tr>\n",
       "    <tr>\n",
       "      <th>1</th>\n",
       "      <td>ID_3ZmbBi</td>\n",
       "      <td>2024</td>\n",
       "      <td>POLYGON ((-7.53978 4.68285, -7.53978 4.68298, ...</td>\n",
       "    </tr>\n",
       "    <tr>\n",
       "      <th>2</th>\n",
       "      <td>ID_tPmH4c</td>\n",
       "      <td>2024</td>\n",
       "      <td>MULTIPOLYGON (((-7.22294 4.69077, -7.22282 4.6...</td>\n",
       "    </tr>\n",
       "    <tr>\n",
       "      <th>3</th>\n",
       "      <td>ID_rUfFQH</td>\n",
       "      <td>2024</td>\n",
       "      <td>MULTIPOLYGON (((-7.22599 4.58477, -7.22582 4.5...</td>\n",
       "    </tr>\n",
       "    <tr>\n",
       "      <th>4</th>\n",
       "      <td>ID_RrthDZ</td>\n",
       "      <td>2024</td>\n",
       "      <td>MULTIPOLYGON (((-7.09795 4.76096, -7.09771 4.7...</td>\n",
       "    </tr>\n",
       "  </tbody>\n",
       "</table>\n",
       "</div>"
      ],
      "text/plain": [
       "          ID  year                                           geometry\n",
       "0  ID_UrUGR0  2024  POLYGON ((-7.56113 4.68498, -7.56119 4.68497, ...\n",
       "1  ID_3ZmbBi  2024  POLYGON ((-7.53978 4.68285, -7.53978 4.68298, ...\n",
       "2  ID_tPmH4c  2024  MULTIPOLYGON (((-7.22294 4.69077, -7.22282 4.6...\n",
       "3  ID_rUfFQH  2024  MULTIPOLYGON (((-7.22599 4.58477, -7.22582 4.5...\n",
       "4  ID_RrthDZ  2024  MULTIPOLYGON (((-7.09795 4.76096, -7.09771 4.7..."
      ]
     },
     "execution_count": 4,
     "metadata": {},
     "output_type": "execute_result"
    }
   ],
   "source": [
    "test.head()"
   ]
  },
  {
   "cell_type": "code",
   "execution_count": 5,
   "id": "e717ed5f",
   "metadata": {},
   "outputs": [
    {
     "data": {
      "text/plain": [
       "<Geographic 2D CRS: EPSG:4326>\n",
       "Name: WGS 84\n",
       "Axis Info [ellipsoidal]:\n",
       "- Lat[north]: Geodetic latitude (degree)\n",
       "- Lon[east]: Geodetic longitude (degree)\n",
       "Area of Use:\n",
       "- name: World.\n",
       "- bounds: (-180.0, -90.0, 180.0, 90.0)\n",
       "Datum: World Geodetic System 1984 ensemble\n",
       "- Ellipsoid: WGS 84\n",
       "- Prime Meridian: Greenwich"
      ]
     },
     "execution_count": 5,
     "metadata": {},
     "output_type": "execute_result"
    }
   ],
   "source": [
    "train.crs"
   ]
  },
  {
   "cell_type": "markdown",
   "id": "b498b9f8",
   "metadata": {},
   "source": [
    "- cell 41 of the sample notebook\n",
    "- "
   ]
  },
  {
   "cell_type": "code",
   "execution_count": null,
   "id": "c3bafb8d",
   "metadata": {},
   "outputs": [],
   "source": []
  }
 ],
 "metadata": {
  "kernelspec": {
   "display_name": "Python 3",
   "language": "python",
   "name": "python3"
  },
  "language_info": {
   "codemirror_mode": {
    "name": "ipython",
    "version": 3
   },
   "file_extension": ".py",
   "mimetype": "text/x-python",
   "name": "python",
   "nbconvert_exporter": "python",
   "pygments_lexer": "ipython3",
   "version": "3.12.2"
  }
 },
 "nbformat": 4,
 "nbformat_minor": 5
}
